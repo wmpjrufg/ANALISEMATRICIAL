{
 "cells": [
  {
   "cell_type": "code",
   "execution_count": 8,
   "metadata": {},
   "outputs": [
    {
     "ename": "IndentationError",
     "evalue": "expected an indented block (<ipython-input-8-000d408daff1>, line 14)",
     "output_type": "error",
     "traceback": [
      "\u001b[1;36m  File \u001b[1;32m\"<ipython-input-8-000d408daff1>\"\u001b[1;36m, line \u001b[1;32m14\u001b[0m\n\u001b[1;33m    elif (NODE_DOF == 2 and TYPE_ELEMENT == \"TRUSS2D\"):\u001b[0m\n\u001b[1;37m    ^\u001b[0m\n\u001b[1;31mIndentationError\u001b[0m\u001b[1;31m:\u001b[0m expected an indented block\n"
     ]
    }
   ],
   "source": [
    "def TOTAL_DEGREE_FREEDOM(NODE_DOF, NUMBER_NODES):\n",
    "    TOTAL_DOF_ARRAY = []\n",
    "    TOTAL_DOF = NUMBER_NODES*NODE_DOF\n",
    "    for I_COUNT in range (TOTAL_DOF):\n",
    "        TOTAL_DOF_ARRAY.append (I_COUNT)\n",
    "    return TOTAL_DOF, TOTAL_DOF_ARRAY\n",
    "\n",
    "def CONSTRAIN_DEGREE_FREEDOM(PRESCRIPTION_MATRIX, NODE_DOF, TYPE_ELEMENT):\n",
    "    NUMBER_PRESCRIPTION_DOF = PRESCRIPTION_MATRIX.shape[0]\n",
    "    TOTAL_PRESCRIBED_DOF_ARRAY = []\n",
    "    VALUE_PRESCRIBED_DOF_ARRAY = []\n",
    "    if (NODE_DOF == 1 and TYPE_ELEMENT == \"BAR1D\"):              \n",
    "        # BAR ELEMENT\n",
    "    elif (NODE_DOF == 2 and TYPE_ELEMENT == \"TRUSS2D\"):   \n",
    "        # TRUSS ELEMENT \n",
    "        for I_COUNT in range(NUMBER_PRESCRIPTION):\n",
    "            NODE = PRESCRIPTION_MATRIX[I_COUNT, 0]\n",
    "            DIRECTION = PRESCRIPTION_MATRIX[I_COUNT, 1]\n",
    "            if DIRECTION == 0:\n",
    "                TOTAL_PRESCRIBED_DOF_ARRAY.append(int(2*NODE))\n",
    "            elif DIRECTION == 1:\n",
    "                TOTAL_PRESCRIBED_DOF_ARRAY.append(int(2*NODE + 1))\n",
    "            VALUE_PRESCRIPTION = PRESCRIPTION_MATRIX[apo, 2]\n",
    "            VALUE_PRESCRIBED_DOF_ARRAY.append(VALUE_PRESCRIPTION)\n",
    "    elif NODE_DOF == 2 and TYPE_ELEMENT == \"BEAM2D\":\n",
    "        \n",
    "    elif NODE_DOF == 3 and TYPE_ELEMENT == \"PORT2D\":\n",
    "        \n",
    "    return NUMBER_PRESCRIPTION_DOF, VALUE_PRESCRIBED_DOF_ARRAY, TOTAL_PRESCRIBED_DOF_ARRAY\n",
    "\n",
    "def FREE_DEGREE_FREEDOM(TOTAL_PRESCRIBED_DOF_ARRAY, TOTAL_DOF_ARRAY):\n",
    "    TOTAL_FREE_PRESCRIBED_DOF_ARRAY = np.setdiff1d(TOTAL_DOF_ARRAY, TOTAL_PRESCRIBED_DOF_ARRAY)\n",
    "    NUMBER_FREE_DOF = len(TOTAL_FREE_PRESCRIBED_DOF_ARRAY)\n",
    "    return NUMBER_FREE_DOF, TOTAL_FREE_PRESCRIBED_DOF_ARRAY\n",
    "\n",
    "def NODAL_EXTERNAL_FORCES(NUMBER_NODAL_LOADS, EXTERNAL_FORCE_MATRIX, TOTAL_DOF, TYPE_ELEMENT)\n",
    "    COMPLETE_NODAL_FORCE = np.zeros(shape=(TOTAL_DOF,1))\n",
    "    if (NODE_DOF == 1 and TYPE_ELEMENT == \"BAR1D\"):              \n",
    "        # BAR ELEMENT\n",
    "    elif (NODE_DOF == 2 and TYPE_ELEMENT == \"TRUSS2D\"):   \n",
    "        # TRUSS ELEMENT \n",
    "        for I_COUNT in range(NUMBER_NODAL_LOADS):\n",
    "            NODE = EXTERNAL_FORCE_MATRIX[I_COUNT, 0]\n",
    "            X_FORCE = EXTERNAL_FORCE_MATRIX[NODE, 1]\n",
    "            Y_FORCE = EXTERNAL_FORCE_MATRIX[NODE, 2]\n",
    "            COMPLETE_NODAL_FORCE[int(2*NODE), 0] = X_FORCE\n",
    "            COMPLETE_NODAL_FORCE[int(2*NODE + 1), 0] = Y_FORCE\n",
    "    elif NODE_DOF == 2 and TYPE_ELEMENT == \"BEAM2D\":\n",
    "        \n",
    "    elif NODE_DOF == 3 and TYPE_ELEMENT == \"PORT2D\":\n",
    "        \n",
    "    return COMPLETE_NODAL_FORCE\n",
    "\n",
    "def INDEX(TYPE_ELEMENT):\n",
    "    if TYPE_ELEMENT == \"TRUSS2D\":\n",
    "        AUX_INDEX_1 = 2\n",
    "        AUX_INDEX_2 = AUX_INDEX_1 + 1\n",
    "\n",
    "def MATERIALS_PROPRETIES(ELEMENT_CONECT_MATRIX, MATERIAL_MATRIX, I_ELEMENT, AUX_INDEX_1, TYPE_ELEMENT):\n",
    "    MATERIALS = []\n",
    "    if TYPE_ELEMENT == \"TRUSS2D\":\n",
    "        MAT = ELEMENT_CONECT[I_ELEMENT, AUX_INDEX_1]\n",
    "        E_MODULUS_VALUE = MATERIAL_MATRIX[MAT,0]\n",
    "        MATERIALS.append(E_MODULUS_VALUE)\n",
    "    return MATERIALS\n",
    "\n",
    "def SECTIONS_PROPRETIES(ELEMENT_CONECT_MATRIX,  SECTION_MATRIX, I_ELEMENT, AUX_INDEX_2, TYPE_ELEMENT):\n",
    "    SECTION = []\n",
    "    if TYPE_ELEMENT == \"TRUSS2D\":\n",
    "        SEC = ELEMENT_CONECT[I_ELEMENT, AUX_INDEX_2]\n",
    "        AREA_VALUE = SECTION_MATRIX[MAT,0]\n",
    "        SECTION.append(AREA_VALUE)\n",
    "    return SECTION\n",
    "\n",
    "def GEOMETRIC_PROPRETIES(ELEMENT_CONECT_MATRIX, NODES_COORD_MATRIX, TYPE_ELEMENT):\n",
    "    if TYPE_ELEMENT == \"TRUSS2D\":\n",
    "\n",
    "    return LENGTH_ELEMENT"
   ]
  },
  {
   "cell_type": "code",
   "execution_count": null,
   "metadata": {},
   "outputs": [],
   "source": [
    "# test\n",
    "import numpy as np"
   ]
  },
  {
   "cell_type": "code",
   "execution_count": null,
   "metadata": {},
   "outputs": [],
   "source": [
    "def GrauLibTotal (grauLibPorNos, nNos, grauLiberdadeTotal):\n",
    "\n",
    "    \"\"\"\n",
    "    -> Faz uma contagem e cria o vetor graus de liberdde totais\n",
    "    e calcula o numero de elementos desse vetor.\n",
    "\n",
    "    :para grauLibPorNos         : Numero dos graus de liberdade por nó\n",
    "    :para nNos                  : Numero de nós\n",
    "    :para grauLiberdadeTotal    : Vetor com os graus de liberdade totais\n",
    "    :para c                     : Variavel auxiliar para contagem\n",
    "    :para nGrausDeLibTotal      : Numero de graus de liberd\n",
    "    \n",
    "    \"\"\""
   ]
  }
 ],
 "metadata": {
  "kernelspec": {
   "display_name": "Python 3",
   "language": "python",
   "name": "python3"
  },
  "language_info": {
   "codemirror_mode": {
    "name": "ipython",
    "version": 3
   },
   "file_extension": ".py",
   "mimetype": "text/x-python",
   "name": "python",
   "nbconvert_exporter": "python",
   "pygments_lexer": "ipython3",
   "version": "3.8.3"
  }
 },
 "nbformat": 4,
 "nbformat_minor": 4
}
